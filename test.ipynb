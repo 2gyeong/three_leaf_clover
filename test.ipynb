{
 "cells": [
  {
   "cell_type": "code",
   "execution_count": 3,
   "metadata": {},
   "outputs": [
    {
     "name": "stdout",
     "output_type": "stream",
     "text": [
      "/Users/2gyeong/three_leaf_clover\n"
     ]
    }
   ],
   "source": [
    "import os\n",
    "\n",
    "# 현재 디렉터리 확인\n",
    "print(os.getcwd())\n"
   ]
  },
  {
   "cell_type": "code",
   "execution_count": 7,
   "metadata": {},
   "outputs": [],
   "source": [
    "import pandas as pd\n",
    "\n",
    "# 데이터 로드\n",
    "onlinesales = pd.read_csv(\"data/Onlinesales_info.csv\")\n",
    "customer_info = pd.read_csv(\"data/Customer_info.csv\")\n",
    "\n",
    "# 날짜 변환\n",
    "onlinesales['거래날짜'] = pd.to_datetime(onlinesales['거래날짜'])\n"
   ]
  },
  {
   "cell_type": "code",
   "execution_count": 11,
   "metadata": {},
   "outputs": [],
   "source": [
    "# 데이터 전처리\n",
    "\n",
    "# 총 구매 금액 계산\n",
    "onlinesales['총 구매 금액'] = onlinesales['수량'] * onlinesales['평균금액']\n",
    "\n",
    "# 결측값 처리\n",
    "onlinesales.dropna(inplace=True)\n",
    "\n",
    "# 중복값 확인 및 제거\n",
    "onlinesales.drop_duplicates(inplace=True)"
   ]
  },
  {
   "cell_type": "code",
   "execution_count": 10,
   "metadata": {},
   "outputs": [],
   "source": [
    "# 고객별 집계 데이터 생성\n",
    "\n",
    "# 최신 날짜 기준으로 Recency 계산\n",
    "latest_date = onlinesales['거래날짜'].max()\n",
    "\n",
    "# 고객별 RFM 지표 계산\n",
    "rfm_data = onlinesales.groupby('고객ID').agg({\n",
    "    '거래날짜': lambda x: (latest_date - x.max()).days,  # Recency\n",
    "    '거래ID': 'count',  # Frequency\n",
    "    '총 구매 금액': 'sum'  # Monetary\n",
    "}).reset_index()\n",
    "\n",
    "rfm_data.rename(columns={'거래날짜': 'Recency', '거래ID': 'Frequency', '총 구매 금액': 'Monetary'}, inplace=True)\n",
    "\n"
   ]
  },
  {
   "cell_type": "code",
   "execution_count": 13,
   "metadata": {},
   "outputs": [],
   "source": [
    "# RFM 점수화\n",
    "# 점수화\n",
    "rfm_data['R_Score'] = pd.qcut(rfm_data['Recency'], 5, labels=[5, 4, 3, 2, 1])\n",
    "rfm_data['F_Score'] = pd.qcut(rfm_data['Frequency'], 5, labels=[1, 2, 3, 4, 5])\n",
    "rfm_data['M_Score'] = pd.qcut(rfm_data['Monetary'], 5, labels=[1, 2, 3, 4, 5])\n",
    "\n",
    "# RFM 점수 합산\n",
    "rfm_data['RFM_Score'] = rfm_data['R_Score'].astype(int) + rfm_data['F_Score'].astype(int) + rfm_data['M_Score'].astype(int)\n"
   ]
  },
  {
   "cell_type": "code",
   "execution_count": 14,
   "metadata": {},
   "outputs": [],
   "source": [
    "# 세그먼트 정의\n",
    "\n",
    "def segment_customer(row):\n",
    "    if row['RFM_Score'] >= 13:\n",
    "        return 'VIP'\n",
    "    elif row['RFM_Score'] >= 9:\n",
    "        return 'Loyal'\n",
    "    elif row['Recency'] > 60:\n",
    "        return 'At Risk'\n",
    "    else:\n",
    "        return 'New'\n",
    "\n",
    "rfm_data['Segment'] = rfm_data.apply(segment_customer, axis=1)\n"
   ]
  },
  {
   "cell_type": "code",
   "execution_count": 15,
   "metadata": {},
   "outputs": [
    {
     "data": {
      "image/png": "[encoded data removed]",
      "text/plain": [
       "<Figure size 640x480 with 1 Axes>"
      ]
     },
     "metadata": {},
     "output_type": "display_data"
    }
   ],
   "source": [
    "import matplotlib.pyplot as plt\n",
    "import seaborn as sns\n",
    "\n",
    "# 세그먼트 분포 시각화\n",
    "sns.countplot(data=rfm_data, x='Segment', order=rfm_data['Segment'].value_counts().index)\n",
    "plt.title(\"Customer Segmentation Distribution\")\n",
    "plt.show()\n"
   ]
  },
  {
   "cell_type": "code",
   "execution_count": 17,
   "metadata": {},
   "outputs": [
    {
     "name": "stdout",
     "output_type": "stream",
     "text": [
      "   Segment     Monetary              Frequency\n",
      "                   mean         sum       mean\n",
      "0  At Risk   783.118500   485533.47  10.887097\n",
      "1    Loyal  3230.354681  1670093.37  38.177950\n",
      "2      New   511.142281    29135.11   5.789474\n",
      "3      VIP  9073.111934  2486032.67  95.277372\n"
     ]
    }
   ],
   "source": [
    "# 세그먼트별 매출 분석\n",
    "\n",
    "segment_analysis = rfm_data.groupby('Segment').agg({\n",
    "    'Monetary': ['mean', 'sum'],\n",
    "    'Frequency': 'mean'\n",
    "}).reset_index()\n",
    "print(segment_analysis)\n"
   ]
  },
  {
   "cell_type": "code",
   "execution_count": null,
   "metadata": {},
   "outputs": [],
   "source": []
  }
 ],
 "metadata": {
  "kernelspec": {
   "display_name": "study",
   "language": "python",
   "name": "python3"
  },
  "language_info": {
   "codemirror_mode": {
    "name": "ipython",
    "version": 3
   },
   "file_extension": ".py",
   "mimetype": "text/x-python",
   "name": "python",
   "nbconvert_exporter": "python",
   "pygments_lexer": "ipython3",
   "version": "3.12.7"
  }
 },
 "nbformat": 4,
 "nbformat_minor": 2
}
